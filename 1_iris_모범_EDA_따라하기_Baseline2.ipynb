{
  "nbformat": 4,
  "nbformat_minor": 0,
  "metadata": {
    "colab": {
      "name": "1_iris_모범 EDA 따라하기_Baseline2.ipynb",
      "provenance": [],
      "collapsed_sections": [],
      "mount_file_id": "18uNkdgRBXGIItK8PqV-Ig9AqzdhQPVhv",
      "authorship_tag": "ABX9TyNKb27yr/Xpki0Ym6gl8SUi",
      "include_colab_link": true
    },
    "kernelspec": {
      "name": "python3",
      "display_name": "Python 3"
    },
    "language_info": {
      "name": "python"
    }
  },
  "cells": [
    {
      "cell_type": "markdown",
      "metadata": {
        "id": "view-in-github",
        "colab_type": "text"
      },
      "source": [
        "<a href=\"https://colab.research.google.com/github/temple17/dacon_practice/blob/main/1_iris_%EB%AA%A8%EB%B2%94_EDA_%EB%94%B0%EB%9D%BC%ED%95%98%EA%B8%B0_Baseline2.ipynb\" target=\"_parent\"><img src=\"https://colab.research.google.com/assets/colab-badge.svg\" alt=\"Open In Colab\"/></a>"
      ]
    },
    {
      "cell_type": "code",
      "metadata": {
        "id": "uUpzmmBwF9Dv"
      },
      "source": [
        "import numpy as np\n",
        "import pandas as pd\n",
        "from sklearn.linear_model import LinearRegression"
      ],
      "execution_count": 1,
      "outputs": []
    },
    {
      "cell_type": "code",
      "metadata": {
        "colab": {
          "base_uri": "https://localhost:8080/"
        },
        "id": "g5DxPkC2GWB2",
        "outputId": "4698a058-5df8-499d-ff61-c2a360f1e251"
      },
      "source": [
        "%cd \"/content/drive/MyDrive/dacon/1_iris\""
      ],
      "execution_count": 2,
      "outputs": [
        {
          "output_type": "stream",
          "name": "stdout",
          "text": [
            "/content/drive/MyDrive/dacon/1_iris\n"
          ]
        }
      ]
    },
    {
      "cell_type": "code",
      "metadata": {
        "id": "VIyL-SQUGfwC"
      },
      "source": [
        "iris = pd.read_csv('iris_train.csv')"
      ],
      "execution_count": 3,
      "outputs": []
    },
    {
      "cell_type": "code",
      "metadata": {
        "colab": {
          "base_uri": "https://localhost:8080/",
          "height": 204
        },
        "id": "H564-CHnGjJF",
        "outputId": "0cd5f19b-b703-4d4b-8cb4-1d021f274c8d"
      },
      "source": [
        "iris.head()"
      ],
      "execution_count": 4,
      "outputs": [
        {
          "output_type": "execute_result",
          "data": {
            "text/html": [
              "<div>\n",
              "<style scoped>\n",
              "    .dataframe tbody tr th:only-of-type {\n",
              "        vertical-align: middle;\n",
              "    }\n",
              "\n",
              "    .dataframe tbody tr th {\n",
              "        vertical-align: top;\n",
              "    }\n",
              "\n",
              "    .dataframe thead th {\n",
              "        text-align: right;\n",
              "    }\n",
              "</style>\n",
              "<table border=\"1\" class=\"dataframe\">\n",
              "  <thead>\n",
              "    <tr style=\"text-align: right;\">\n",
              "      <th></th>\n",
              "      <th>id</th>\n",
              "      <th>species</th>\n",
              "      <th>sepal length (cm)</th>\n",
              "      <th>petal length (cm)</th>\n",
              "      <th>sepal width (cm)</th>\n",
              "      <th>petal width (cm)</th>\n",
              "    </tr>\n",
              "  </thead>\n",
              "  <tbody>\n",
              "    <tr>\n",
              "      <th>0</th>\n",
              "      <td>0</td>\n",
              "      <td>setosa</td>\n",
              "      <td>4.4</td>\n",
              "      <td>1.4</td>\n",
              "      <td>2.9</td>\n",
              "      <td>0.2</td>\n",
              "    </tr>\n",
              "    <tr>\n",
              "      <th>1</th>\n",
              "      <td>1</td>\n",
              "      <td>versicolor</td>\n",
              "      <td>6.4</td>\n",
              "      <td>4.5</td>\n",
              "      <td>3.2</td>\n",
              "      <td>1.5</td>\n",
              "    </tr>\n",
              "    <tr>\n",
              "      <th>2</th>\n",
              "      <td>2</td>\n",
              "      <td>virginica</td>\n",
              "      <td>6.2</td>\n",
              "      <td>4.8</td>\n",
              "      <td>2.8</td>\n",
              "      <td>1.8</td>\n",
              "    </tr>\n",
              "    <tr>\n",
              "      <th>3</th>\n",
              "      <td>3</td>\n",
              "      <td>virginica</td>\n",
              "      <td>7.2</td>\n",
              "      <td>6.1</td>\n",
              "      <td>3.6</td>\n",
              "      <td>2.5</td>\n",
              "    </tr>\n",
              "    <tr>\n",
              "      <th>4</th>\n",
              "      <td>4</td>\n",
              "      <td>setosa</td>\n",
              "      <td>4.9</td>\n",
              "      <td>1.4</td>\n",
              "      <td>3.0</td>\n",
              "      <td>0.2</td>\n",
              "    </tr>\n",
              "  </tbody>\n",
              "</table>\n",
              "</div>"
            ],
            "text/plain": [
              "   id     species  ...  sepal width (cm)  petal width (cm)\n",
              "0   0      setosa  ...               2.9               0.2\n",
              "1   1  versicolor  ...               3.2               1.5\n",
              "2   2   virginica  ...               2.8               1.8\n",
              "3   3   virginica  ...               3.6               2.5\n",
              "4   4      setosa  ...               3.0               0.2\n",
              "\n",
              "[5 rows x 6 columns]"
            ]
          },
          "metadata": {},
          "execution_count": 4
        }
      ]
    },
    {
      "cell_type": "code",
      "metadata": {
        "colab": {
          "base_uri": "https://localhost:8080/",
          "height": 204
        },
        "id": "YLntEwEDGknM",
        "outputId": "d8974116-be03-48b2-a9b1-da596bfc2a86"
      },
      "source": [
        "X = iris[['species', 'sepal length (cm)', 'petal length (cm)']]\n",
        "X.head()"
      ],
      "execution_count": 5,
      "outputs": [
        {
          "output_type": "execute_result",
          "data": {
            "text/html": [
              "<div>\n",
              "<style scoped>\n",
              "    .dataframe tbody tr th:only-of-type {\n",
              "        vertical-align: middle;\n",
              "    }\n",
              "\n",
              "    .dataframe tbody tr th {\n",
              "        vertical-align: top;\n",
              "    }\n",
              "\n",
              "    .dataframe thead th {\n",
              "        text-align: right;\n",
              "    }\n",
              "</style>\n",
              "<table border=\"1\" class=\"dataframe\">\n",
              "  <thead>\n",
              "    <tr style=\"text-align: right;\">\n",
              "      <th></th>\n",
              "      <th>species</th>\n",
              "      <th>sepal length (cm)</th>\n",
              "      <th>petal length (cm)</th>\n",
              "    </tr>\n",
              "  </thead>\n",
              "  <tbody>\n",
              "    <tr>\n",
              "      <th>0</th>\n",
              "      <td>setosa</td>\n",
              "      <td>4.4</td>\n",
              "      <td>1.4</td>\n",
              "    </tr>\n",
              "    <tr>\n",
              "      <th>1</th>\n",
              "      <td>versicolor</td>\n",
              "      <td>6.4</td>\n",
              "      <td>4.5</td>\n",
              "    </tr>\n",
              "    <tr>\n",
              "      <th>2</th>\n",
              "      <td>virginica</td>\n",
              "      <td>6.2</td>\n",
              "      <td>4.8</td>\n",
              "    </tr>\n",
              "    <tr>\n",
              "      <th>3</th>\n",
              "      <td>virginica</td>\n",
              "      <td>7.2</td>\n",
              "      <td>6.1</td>\n",
              "    </tr>\n",
              "    <tr>\n",
              "      <th>4</th>\n",
              "      <td>setosa</td>\n",
              "      <td>4.9</td>\n",
              "      <td>1.4</td>\n",
              "    </tr>\n",
              "  </tbody>\n",
              "</table>\n",
              "</div>"
            ],
            "text/plain": [
              "      species  sepal length (cm)  petal length (cm)\n",
              "0      setosa                4.4                1.4\n",
              "1  versicolor                6.4                4.5\n",
              "2   virginica                6.2                4.8\n",
              "3   virginica                7.2                6.1\n",
              "4      setosa                4.9                1.4"
            ]
          },
          "metadata": {},
          "execution_count": 5
        }
      ]
    },
    {
      "cell_type": "code",
      "metadata": {
        "id": "fmIBk7abGs7V"
      },
      "source": [
        "y_petal = iris['petal width (cm)']\n",
        "y_sepal = iris['sepal width (cm)']"
      ],
      "execution_count": 6,
      "outputs": []
    },
    {
      "cell_type": "code",
      "metadata": {
        "id": "G6419KxPIqDB"
      },
      "source": [
        "from sklearn.preprocessing import OrdinalEncoder\n",
        "ordinal_encoder = OrdinalEncoder()"
      ],
      "execution_count": 7,
      "outputs": []
    },
    {
      "cell_type": "code",
      "metadata": {
        "id": "yAEtlcoVJE2w"
      },
      "source": [
        "iris_cat = iris[['species']]"
      ],
      "execution_count": 8,
      "outputs": []
    },
    {
      "cell_type": "code",
      "metadata": {
        "id": "jSoPS3KsJi97"
      },
      "source": [
        "iris_cat_encoded = ordinal_encoder.fit_transform(iris_cat)"
      ],
      "execution_count": 9,
      "outputs": []
    },
    {
      "cell_type": "code",
      "metadata": {
        "colab": {
          "base_uri": "https://localhost:8080/"
        },
        "id": "dLFfxJYWJoH1",
        "outputId": "669fef52-db8c-459b-d3c0-15ab766bac9a"
      },
      "source": [
        "ordinal_encoder.categories_"
      ],
      "execution_count": 10,
      "outputs": [
        {
          "output_type": "execute_result",
          "data": {
            "text/plain": [
              "[array(['setosa', 'versicolor', 'virginica'], dtype=object)]"
            ]
          },
          "metadata": {},
          "execution_count": 10
        }
      ]
    },
    {
      "cell_type": "code",
      "metadata": {
        "colab": {
          "base_uri": "https://localhost:8080/"
        },
        "id": "BGPdtwbJJpyj",
        "outputId": "2658439b-501f-447e-d948-0ef403cdd628"
      },
      "source": [
        "X['species'] = iris_cat_encoded"
      ],
      "execution_count": 14,
      "outputs": [
        {
          "output_type": "stream",
          "name": "stderr",
          "text": [
            "/usr/local/lib/python3.7/dist-packages/ipykernel_launcher.py:1: SettingWithCopyWarning: \n",
            "A value is trying to be set on a copy of a slice from a DataFrame.\n",
            "Try using .loc[row_indexer,col_indexer] = value instead\n",
            "\n",
            "See the caveats in the documentation: https://pandas.pydata.org/pandas-docs/stable/user_guide/indexing.html#returning-a-view-versus-a-copy\n",
            "  \"\"\"Entry point for launching an IPython kernel.\n"
          ]
        }
      ]
    },
    {
      "cell_type": "code",
      "metadata": {
        "colab": {
          "base_uri": "https://localhost:8080/",
          "height": 204
        },
        "id": "n6oL7b4BJ1sd",
        "outputId": "5732646f-cd9f-494e-bca3-00b7db746bba"
      },
      "source": [
        "X.head()"
      ],
      "execution_count": 15,
      "outputs": [
        {
          "output_type": "execute_result",
          "data": {
            "text/html": [
              "<div>\n",
              "<style scoped>\n",
              "    .dataframe tbody tr th:only-of-type {\n",
              "        vertical-align: middle;\n",
              "    }\n",
              "\n",
              "    .dataframe tbody tr th {\n",
              "        vertical-align: top;\n",
              "    }\n",
              "\n",
              "    .dataframe thead th {\n",
              "        text-align: right;\n",
              "    }\n",
              "</style>\n",
              "<table border=\"1\" class=\"dataframe\">\n",
              "  <thead>\n",
              "    <tr style=\"text-align: right;\">\n",
              "      <th></th>\n",
              "      <th>species</th>\n",
              "      <th>sepal length (cm)</th>\n",
              "      <th>petal length (cm)</th>\n",
              "    </tr>\n",
              "  </thead>\n",
              "  <tbody>\n",
              "    <tr>\n",
              "      <th>0</th>\n",
              "      <td>0.0</td>\n",
              "      <td>4.4</td>\n",
              "      <td>1.4</td>\n",
              "    </tr>\n",
              "    <tr>\n",
              "      <th>1</th>\n",
              "      <td>1.0</td>\n",
              "      <td>6.4</td>\n",
              "      <td>4.5</td>\n",
              "    </tr>\n",
              "    <tr>\n",
              "      <th>2</th>\n",
              "      <td>2.0</td>\n",
              "      <td>6.2</td>\n",
              "      <td>4.8</td>\n",
              "    </tr>\n",
              "    <tr>\n",
              "      <th>3</th>\n",
              "      <td>2.0</td>\n",
              "      <td>7.2</td>\n",
              "      <td>6.1</td>\n",
              "    </tr>\n",
              "    <tr>\n",
              "      <th>4</th>\n",
              "      <td>0.0</td>\n",
              "      <td>4.9</td>\n",
              "      <td>1.4</td>\n",
              "    </tr>\n",
              "  </tbody>\n",
              "</table>\n",
              "</div>"
            ],
            "text/plain": [
              "   species  sepal length (cm)  petal length (cm)\n",
              "0      0.0                4.4                1.4\n",
              "1      1.0                6.4                4.5\n",
              "2      2.0                6.2                4.8\n",
              "3      2.0                7.2                6.1\n",
              "4      0.0                4.9                1.4"
            ]
          },
          "metadata": {},
          "execution_count": 15
        }
      ]
    },
    {
      "cell_type": "code",
      "metadata": {
        "id": "iJqD-up9KCVn"
      },
      "source": [
        "X = np.array(X)"
      ],
      "execution_count": 16,
      "outputs": []
    },
    {
      "cell_type": "code",
      "metadata": {
        "id": "xmoS_sLRKHI7"
      },
      "source": [
        "# y = w1x1 + w2x2 + w3x3 + w4 \n",
        "# x1 ~ x3 : species, sepal length, petal length"
      ],
      "execution_count": 17,
      "outputs": []
    },
    {
      "cell_type": "code",
      "metadata": {
        "colab": {
          "base_uri": "https://localhost:8080/"
        },
        "id": "YVa7tdIpK-jE",
        "outputId": "e845f397-fd0c-4f4b-d83a-6ae190443d69"
      },
      "source": [
        "ones = np.ones_like(X[:,0]) # 1로만 되어있는 (75,) 벡터 생성\n",
        "ones = ones.reshape(75,-1)\n",
        "X = np.concatenate((X,ones), axis = 1)\n",
        "\n",
        "X[:10]"
      ],
      "execution_count": 18,
      "outputs": [
        {
          "output_type": "execute_result",
          "data": {
            "text/plain": [
              "array([[0. , 4.4, 1.4, 1. ],\n",
              "       [1. , 6.4, 4.5, 1. ],\n",
              "       [2. , 6.2, 4.8, 1. ],\n",
              "       [2. , 7.2, 6.1, 1. ],\n",
              "       [0. , 4.9, 1.4, 1. ],\n",
              "       [2. , 6.5, 5.8, 1. ],\n",
              "       [0. , 4.3, 1.1, 1. ],\n",
              "       [1. , 6.7, 5. , 1. ],\n",
              "       [1. , 6.8, 4.8, 1. ],\n",
              "       [1. , 6.6, 4.4, 1. ]])"
            ]
          },
          "metadata": {},
          "execution_count": 18
        }
      ]
    },
    {
      "cell_type": "code",
      "metadata": {
        "colab": {
          "base_uri": "https://localhost:8080/"
        },
        "id": "4aHKUT7nLNME",
        "outputId": "c539551c-0492-4d40-9a83-a88e0896dabb"
      },
      "source": [
        "transpose_doted_X = X.T.dot(X)\n",
        "inversed = np.linalg.inv(transpose_doted_X)\n",
        "doted_inv_t = inversed.dot(X.T)\n",
        "weight_petal = doted_inv_t.dot(y_petal)\n",
        "weight_petal"
      ],
      "execution_count": 19,
      "outputs": [
        {
          "output_type": "execute_result",
          "data": {
            "text/plain": [
              "array([ 0.29159172, -0.10650362,  0.33433041,  0.25399605])"
            ]
          },
          "metadata": {},
          "execution_count": 19
        }
      ]
    },
    {
      "cell_type": "code",
      "metadata": {
        "colab": {
          "base_uri": "https://localhost:8080/"
        },
        "id": "L96W0-NrLifw",
        "outputId": "448ae616-ad92-4554-b4e3-80e23ee3b95f"
      },
      "source": [
        "prediction_petal = X.dot(weight_petal)\n",
        "error_petal = sum(abs(prediction_petal - y_petal))/len(prediction_petal)\n",
        "error_petal"
      ],
      "execution_count": 20,
      "outputs": [
        {
          "output_type": "execute_result",
          "data": {
            "text/plain": [
              "0.13392975138266672"
            ]
          },
          "metadata": {},
          "execution_count": 20
        }
      ]
    },
    {
      "cell_type": "code",
      "metadata": {
        "colab": {
          "base_uri": "https://localhost:8080/"
        },
        "id": "PtPZ1hE7LuMH",
        "outputId": "bcf158c9-4dfc-4282-bd1a-18a53a66242a"
      },
      "source": [
        "weight_sepal = doted_inv_t.dot(y_sepal)\n",
        "weight_sepal"
      ],
      "execution_count": 21,
      "outputs": [
        {
          "output_type": "execute_result",
          "data": {
            "text/plain": [
              "array([ 0.19126075,  0.54550355, -0.39424673,  1.11109575])"
            ]
          },
          "metadata": {},
          "execution_count": 21
        }
      ]
    },
    {
      "cell_type": "code",
      "metadata": {
        "colab": {
          "base_uri": "https://localhost:8080/"
        },
        "id": "VPrw4qROL216",
        "outputId": "02fcf486-ba96-4ef9-f463-246e78a1008f"
      },
      "source": [
        "prediction_sepal = X.dot(weight_sepal)\n",
        "error_sepal = sum(abs(prediction_sepal - y_sepal))/len(prediction_sepal)\n",
        "error_sepal"
      ],
      "execution_count": 22,
      "outputs": [
        {
          "output_type": "execute_result",
          "data": {
            "text/plain": [
              "0.2402450093944724"
            ]
          },
          "metadata": {},
          "execution_count": 22
        }
      ]
    },
    {
      "cell_type": "code",
      "metadata": {
        "colab": {
          "base_uri": "https://localhost:8080/"
        },
        "id": "FkWevPl0MADn",
        "outputId": "182d917d-6cf2-4935-bb67-08e7a8230bb1"
      },
      "source": [
        "from sklearn.linear_model import LinearRegression\n",
        "\n",
        "model_petal = LinearRegression()\n",
        "model_petal.fit(X[:,:3], y_petal)\n",
        "\n",
        "model_sepal = LinearRegression()\n",
        "model_sepal.fit(X[:,:3], y_sepal)"
      ],
      "execution_count": 24,
      "outputs": [
        {
          "output_type": "execute_result",
          "data": {
            "text/plain": [
              "LinearRegression(copy_X=True, fit_intercept=True, n_jobs=None, normalize=False)"
            ]
          },
          "metadata": {},
          "execution_count": 24
        }
      ]
    },
    {
      "cell_type": "code",
      "metadata": {
        "colab": {
          "base_uri": "https://localhost:8080/"
        },
        "id": "xbN9eGguMSaZ",
        "outputId": "54d3056b-dc62-468b-ecc0-def471801faf"
      },
      "source": [
        "prediction_sepal_scikit = model_sepal.predict(X[:,:3])\n",
        "scikit_sepal_error = sum(abs(prediction_sepal_scikit - y_sepal))/len(prediction_sepal_scikit)\n",
        "scikit_sepal_error"
      ],
      "execution_count": 25,
      "outputs": [
        {
          "output_type": "execute_result",
          "data": {
            "text/plain": [
              "0.24024500939447221"
            ]
          },
          "metadata": {},
          "execution_count": 25
        }
      ]
    },
    {
      "cell_type": "code",
      "metadata": {
        "colab": {
          "base_uri": "https://localhost:8080/"
        },
        "id": "axziesMjMmbc",
        "outputId": "7e203b49-c9ba-4fa4-a2e6-72336fcddcdb"
      },
      "source": [
        "prediction_petal_scikit = model_petal.predict(X[:,:3])\n",
        "scikit_petal_error = sum(abs(prediction_petal_scikit - y_petal))/len(prediction_petal_scikit)\n",
        "scikit_petal_error"
      ],
      "execution_count": 26,
      "outputs": [
        {
          "output_type": "execute_result",
          "data": {
            "text/plain": [
              "0.13392975138266616"
            ]
          },
          "metadata": {},
          "execution_count": 26
        }
      ]
    },
    {
      "cell_type": "code",
      "metadata": {
        "colab": {
          "base_uri": "https://localhost:8080/"
        },
        "id": "ivknlDwZMyrp",
        "outputId": "b7ad9cdd-28fa-45a2-c45e-cf1d48e72738"
      },
      "source": [
        "print(\"직접 구현한 Normal equation 꽃잎 너비 error:          \", error_petal)\n",
        "print(\"sklearn으로 LinearRegression모델을 사용한 꽃잎 너비 error:\", scikit_petal_error)\n",
        "\n",
        "print(\"직접 구현한 Normal equation 꽃받침 너비 error:          \", error_sepal)\n",
        "print(\"sklearn으로 LinearRegression모델을 사용한 꽃받침 너비 error:\", scikit_sepal_error)"
      ],
      "execution_count": 27,
      "outputs": [
        {
          "output_type": "stream",
          "name": "stdout",
          "text": [
            "직접 구현한 Normal equation 꽃잎 너비 error:           0.13392975138266672\n",
            "sklearn으로 LinearRegression모델을 사용한 꽃잎 너비 error: 0.13392975138266616\n",
            "직접 구현한 Normal equation 꽃받침 너비 error:           0.2402450093944724\n",
            "sklearn으로 LinearRegression모델을 사용한 꽃받침 너비 error: 0.24024500939447221\n"
          ]
        }
      ]
    },
    {
      "cell_type": "code",
      "metadata": {
        "id": "L2y98zgfNHnw"
      },
      "source": [
        "submission = pd.read_csv('sample_submission.csv')\n",
        "test_set = pd.read_csv('iris_test.csv')"
      ],
      "execution_count": 29,
      "outputs": []
    },
    {
      "cell_type": "code",
      "metadata": {
        "id": "aDWHT4W-NPZ1"
      },
      "source": [
        "test_cat = test_set[['species']]\n",
        "\n",
        "test_cat_encoded = ordinal_encoder.fit_transform(test_cat)"
      ],
      "execution_count": 31,
      "outputs": []
    },
    {
      "cell_type": "code",
      "metadata": {
        "id": "hd5iqTnkNgwg"
      },
      "source": [
        "test_set['species'] = test_cat_encoded"
      ],
      "execution_count": 32,
      "outputs": []
    },
    {
      "cell_type": "code",
      "metadata": {
        "id": "R_MvurmUN8jM"
      },
      "source": [
        "X = test_set[['species', 'sepal length (cm)', 'petal length (cm)']]"
      ],
      "execution_count": 34,
      "outputs": []
    },
    {
      "cell_type": "code",
      "metadata": {
        "id": "yLW3ZaftOByX"
      },
      "source": [
        "pred_petal = model_petal.predict(X)"
      ],
      "execution_count": 35,
      "outputs": []
    },
    {
      "cell_type": "code",
      "metadata": {
        "id": "1Ez7r37rOH7X"
      },
      "source": [
        "pred_sepal = model_sepal.predict(X)"
      ],
      "execution_count": 36,
      "outputs": []
    },
    {
      "cell_type": "code",
      "metadata": {
        "id": "4RVD8i2cOKCo"
      },
      "source": [
        "submission['sepal width (cm)'] = pred_sepal\n",
        "submission['petal width (cm)'] = pred_petal\n",
        "\n",
        "submission.to_csv('submission2.csv', index = False)"
      ],
      "execution_count": 37,
      "outputs": []
    },
    {
      "cell_type": "code",
      "metadata": {
        "id": "Mucmu3EpOYs6"
      },
      "source": [
        ""
      ],
      "execution_count": null,
      "outputs": []
    }
  ]
}